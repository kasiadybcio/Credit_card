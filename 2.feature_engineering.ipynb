{
 "cells": [
  {
   "cell_type": "markdown",
   "metadata": {},
   "source": [
    "# Dependencies loading"
   ]
  },
  {
   "cell_type": "code",
   "execution_count": 1,
   "metadata": {},
   "outputs": [],
   "source": [
    "#libraries\n",
    "# data analysis and wrangling\n",
    "import pandas as pd\n",
    "import numpy as np\n",
    "import random as rnd\n",
    "\n",
    "# visualization\n",
    "import seaborn as sns\n",
    "import matplotlib.pyplot as plt\n",
    "%matplotlib inline\n",
    "\n",
    "# machine learning\n",
    "\n",
    "np.random.seed(2024)"
   ]
  },
  {
   "cell_type": "markdown",
   "metadata": {},
   "source": [
    "# Data loading"
   ]
  },
  {
   "cell_type": "code",
   "execution_count": 2,
   "metadata": {},
   "outputs": [],
   "source": [
    "data = pd.read_csv('input_data/X_train.csv',index_col=0)\n",
    "data_test = pd.read_csv('input_data/X_test.csv', index_col=0)"
   ]
  },
  {
   "cell_type": "code",
   "execution_count": 3,
   "metadata": {},
   "outputs": [
    {
     "data": {
      "text/html": [
       "<div>\n",
       "<style scoped>\n",
       "    .dataframe tbody tr th:only-of-type {\n",
       "        vertical-align: middle;\n",
       "    }\n",
       "\n",
       "    .dataframe tbody tr th {\n",
       "        vertical-align: top;\n",
       "    }\n",
       "\n",
       "    .dataframe thead th {\n",
       "        text-align: right;\n",
       "    }\n",
       "</style>\n",
       "<table border=\"1\" class=\"dataframe\">\n",
       "  <thead>\n",
       "    <tr style=\"text-align: right;\">\n",
       "      <th></th>\n",
       "      <th>Customer_Age</th>\n",
       "      <th>Dependent_count</th>\n",
       "      <th>Education_Level</th>\n",
       "      <th>Income_Category</th>\n",
       "      <th>Card_Category</th>\n",
       "      <th>Months_on_book</th>\n",
       "      <th>Total_Relationship_Count</th>\n",
       "      <th>Months_Inactive_12_mon</th>\n",
       "      <th>Contacts_Count_12_mon</th>\n",
       "      <th>Credit_Limit</th>\n",
       "      <th>...</th>\n",
       "      <th>Avg_Open_To_Buy</th>\n",
       "      <th>Total_Amt_Chng_Q4_Q1</th>\n",
       "      <th>Total_Trans_Amt</th>\n",
       "      <th>Total_Trans_Ct</th>\n",
       "      <th>Total_Ct_Chng_Q4_Q1</th>\n",
       "      <th>Avg_Utilization_Ratio</th>\n",
       "      <th>Education_Level_NA</th>\n",
       "      <th>Income_Category_NA</th>\n",
       "      <th>Marital_Status</th>\n",
       "      <th>Gender</th>\n",
       "    </tr>\n",
       "  </thead>\n",
       "  <tbody>\n",
       "    <tr>\n",
       "      <th>0</th>\n",
       "      <td>27.0</td>\n",
       "      <td>0.0</td>\n",
       "      <td>3.0</td>\n",
       "      <td>2.0</td>\n",
       "      <td>0.0</td>\n",
       "      <td>36.0</td>\n",
       "      <td>5.0</td>\n",
       "      <td>1.0</td>\n",
       "      <td>0.0</td>\n",
       "      <td>13439.0</td>\n",
       "      <td>...</td>\n",
       "      <td>11436.0</td>\n",
       "      <td>0.936</td>\n",
       "      <td>4715.0</td>\n",
       "      <td>86.0</td>\n",
       "      <td>0.720</td>\n",
       "      <td>0.149</td>\n",
       "      <td>0.0</td>\n",
       "      <td>1.0</td>\n",
       "      <td>Married</td>\n",
       "      <td>M</td>\n",
       "    </tr>\n",
       "    <tr>\n",
       "      <th>1</th>\n",
       "      <td>46.0</td>\n",
       "      <td>0.0</td>\n",
       "      <td>0.0</td>\n",
       "      <td>2.0</td>\n",
       "      <td>1.0</td>\n",
       "      <td>36.0</td>\n",
       "      <td>6.0</td>\n",
       "      <td>3.0</td>\n",
       "      <td>2.0</td>\n",
       "      <td>30501.0</td>\n",
       "      <td>...</td>\n",
       "      <td>28471.0</td>\n",
       "      <td>0.560</td>\n",
       "      <td>2525.0</td>\n",
       "      <td>45.0</td>\n",
       "      <td>0.500</td>\n",
       "      <td>0.067</td>\n",
       "      <td>0.0</td>\n",
       "      <td>0.0</td>\n",
       "      <td>Single</td>\n",
       "      <td>F</td>\n",
       "    </tr>\n",
       "    <tr>\n",
       "      <th>2</th>\n",
       "      <td>46.0</td>\n",
       "      <td>2.0</td>\n",
       "      <td>1.0</td>\n",
       "      <td>0.0</td>\n",
       "      <td>0.0</td>\n",
       "      <td>37.0</td>\n",
       "      <td>3.0</td>\n",
       "      <td>1.0</td>\n",
       "      <td>1.0</td>\n",
       "      <td>6118.0</td>\n",
       "      <td>...</td>\n",
       "      <td>5026.0</td>\n",
       "      <td>0.757</td>\n",
       "      <td>4434.0</td>\n",
       "      <td>81.0</td>\n",
       "      <td>0.620</td>\n",
       "      <td>0.178</td>\n",
       "      <td>0.0</td>\n",
       "      <td>0.0</td>\n",
       "      <td>Married</td>\n",
       "      <td>M</td>\n",
       "    </tr>\n",
       "    <tr>\n",
       "      <th>3</th>\n",
       "      <td>57.0</td>\n",
       "      <td>2.0</td>\n",
       "      <td>3.0</td>\n",
       "      <td>0.0</td>\n",
       "      <td>0.0</td>\n",
       "      <td>45.0</td>\n",
       "      <td>6.0</td>\n",
       "      <td>2.0</td>\n",
       "      <td>2.0</td>\n",
       "      <td>1438.3</td>\n",
       "      <td>...</td>\n",
       "      <td>698.3</td>\n",
       "      <td>0.698</td>\n",
       "      <td>4970.0</td>\n",
       "      <td>87.0</td>\n",
       "      <td>0.933</td>\n",
       "      <td>0.514</td>\n",
       "      <td>0.0</td>\n",
       "      <td>0.0</td>\n",
       "      <td>Married</td>\n",
       "      <td>F</td>\n",
       "    </tr>\n",
       "    <tr>\n",
       "      <th>4</th>\n",
       "      <td>56.0</td>\n",
       "      <td>1.0</td>\n",
       "      <td>2.0</td>\n",
       "      <td>3.0</td>\n",
       "      <td>0.0</td>\n",
       "      <td>36.0</td>\n",
       "      <td>3.0</td>\n",
       "      <td>3.0</td>\n",
       "      <td>3.0</td>\n",
       "      <td>34516.0</td>\n",
       "      <td>...</td>\n",
       "      <td>33039.0</td>\n",
       "      <td>1.234</td>\n",
       "      <td>2395.0</td>\n",
       "      <td>50.0</td>\n",
       "      <td>0.724</td>\n",
       "      <td>0.043</td>\n",
       "      <td>0.0</td>\n",
       "      <td>0.0</td>\n",
       "      <td>Married</td>\n",
       "      <td>M</td>\n",
       "    </tr>\n",
       "  </tbody>\n",
       "</table>\n",
       "<p>5 rows × 21 columns</p>\n",
       "</div>"
      ],
      "text/plain": [
       "   Customer_Age  Dependent_count  Education_Level  Income_Category  \\\n",
       "0          27.0              0.0              3.0              2.0   \n",
       "1          46.0              0.0              0.0              2.0   \n",
       "2          46.0              2.0              1.0              0.0   \n",
       "3          57.0              2.0              3.0              0.0   \n",
       "4          56.0              1.0              2.0              3.0   \n",
       "\n",
       "   Card_Category  Months_on_book  Total_Relationship_Count  \\\n",
       "0            0.0            36.0                       5.0   \n",
       "1            1.0            36.0                       6.0   \n",
       "2            0.0            37.0                       3.0   \n",
       "3            0.0            45.0                       6.0   \n",
       "4            0.0            36.0                       3.0   \n",
       "\n",
       "   Months_Inactive_12_mon  Contacts_Count_12_mon  Credit_Limit  ...  \\\n",
       "0                     1.0                    0.0       13439.0  ...   \n",
       "1                     3.0                    2.0       30501.0  ...   \n",
       "2                     1.0                    1.0        6118.0  ...   \n",
       "3                     2.0                    2.0        1438.3  ...   \n",
       "4                     3.0                    3.0       34516.0  ...   \n",
       "\n",
       "   Avg_Open_To_Buy  Total_Amt_Chng_Q4_Q1  Total_Trans_Amt  Total_Trans_Ct  \\\n",
       "0          11436.0                 0.936           4715.0            86.0   \n",
       "1          28471.0                 0.560           2525.0            45.0   \n",
       "2           5026.0                 0.757           4434.0            81.0   \n",
       "3            698.3                 0.698           4970.0            87.0   \n",
       "4          33039.0                 1.234           2395.0            50.0   \n",
       "\n",
       "   Total_Ct_Chng_Q4_Q1  Avg_Utilization_Ratio  Education_Level_NA  \\\n",
       "0                0.720                  0.149                 0.0   \n",
       "1                0.500                  0.067                 0.0   \n",
       "2                0.620                  0.178                 0.0   \n",
       "3                0.933                  0.514                 0.0   \n",
       "4                0.724                  0.043                 0.0   \n",
       "\n",
       "   Income_Category_NA  Marital_Status Gender  \n",
       "0                 1.0         Married      M  \n",
       "1                 0.0          Single      F  \n",
       "2                 0.0         Married      M  \n",
       "3                 0.0         Married      F  \n",
       "4                 0.0         Married      M  \n",
       "\n",
       "[5 rows x 21 columns]"
      ]
     },
     "execution_count": 3,
     "metadata": {},
     "output_type": "execute_result"
    }
   ],
   "source": [
    "data.head()"
   ]
  },
  {
   "cell_type": "code",
   "execution_count": 4,
   "metadata": {},
   "outputs": [
    {
     "data": {
      "text/html": [
       "<div>\n",
       "<style scoped>\n",
       "    .dataframe tbody tr th:only-of-type {\n",
       "        vertical-align: middle;\n",
       "    }\n",
       "\n",
       "    .dataframe tbody tr th {\n",
       "        vertical-align: top;\n",
       "    }\n",
       "\n",
       "    .dataframe thead th {\n",
       "        text-align: right;\n",
       "    }\n",
       "</style>\n",
       "<table border=\"1\" class=\"dataframe\">\n",
       "  <thead>\n",
       "    <tr style=\"text-align: right;\">\n",
       "      <th></th>\n",
       "      <th>Customer_Age</th>\n",
       "      <th>Dependent_count</th>\n",
       "      <th>Education_Level</th>\n",
       "      <th>Income_Category</th>\n",
       "      <th>Card_Category</th>\n",
       "      <th>Months_on_book</th>\n",
       "      <th>Total_Relationship_Count</th>\n",
       "      <th>Months_Inactive_12_mon</th>\n",
       "      <th>Contacts_Count_12_mon</th>\n",
       "      <th>Credit_Limit</th>\n",
       "      <th>...</th>\n",
       "      <th>Avg_Open_To_Buy</th>\n",
       "      <th>Total_Amt_Chng_Q4_Q1</th>\n",
       "      <th>Total_Trans_Amt</th>\n",
       "      <th>Total_Trans_Ct</th>\n",
       "      <th>Total_Ct_Chng_Q4_Q1</th>\n",
       "      <th>Avg_Utilization_Ratio</th>\n",
       "      <th>Education_Level_NA</th>\n",
       "      <th>Income_Category_NA</th>\n",
       "      <th>Marital_Status</th>\n",
       "      <th>Gender</th>\n",
       "    </tr>\n",
       "  </thead>\n",
       "  <tbody>\n",
       "    <tr>\n",
       "      <th>7</th>\n",
       "      <td>45.0</td>\n",
       "      <td>5.0</td>\n",
       "      <td>1.0</td>\n",
       "      <td>2.0</td>\n",
       "      <td>0.0</td>\n",
       "      <td>37.0</td>\n",
       "      <td>3.0</td>\n",
       "      <td>1.0</td>\n",
       "      <td>3.0</td>\n",
       "      <td>15626.0</td>\n",
       "      <td>...</td>\n",
       "      <td>14478.0</td>\n",
       "      <td>1.028</td>\n",
       "      <td>3386.0</td>\n",
       "      <td>65.0</td>\n",
       "      <td>0.711</td>\n",
       "      <td>0.073</td>\n",
       "      <td>0.0</td>\n",
       "      <td>0.0</td>\n",
       "      <td>Married</td>\n",
       "      <td>M</td>\n",
       "    </tr>\n",
       "    <tr>\n",
       "      <th>10</th>\n",
       "      <td>57.0</td>\n",
       "      <td>4.0</td>\n",
       "      <td>2.0</td>\n",
       "      <td>3.0</td>\n",
       "      <td>0.0</td>\n",
       "      <td>36.0</td>\n",
       "      <td>5.0</td>\n",
       "      <td>3.0</td>\n",
       "      <td>4.0</td>\n",
       "      <td>7558.0</td>\n",
       "      <td>...</td>\n",
       "      <td>6194.0</td>\n",
       "      <td>0.719</td>\n",
       "      <td>3676.0</td>\n",
       "      <td>67.0</td>\n",
       "      <td>0.558</td>\n",
       "      <td>0.180</td>\n",
       "      <td>1.0</td>\n",
       "      <td>0.0</td>\n",
       "      <td>Married</td>\n",
       "      <td>M</td>\n",
       "    </tr>\n",
       "    <tr>\n",
       "      <th>12</th>\n",
       "      <td>44.0</td>\n",
       "      <td>5.0</td>\n",
       "      <td>1.0</td>\n",
       "      <td>3.0</td>\n",
       "      <td>0.0</td>\n",
       "      <td>37.0</td>\n",
       "      <td>4.0</td>\n",
       "      <td>2.0</td>\n",
       "      <td>3.0</td>\n",
       "      <td>15638.0</td>\n",
       "      <td>...</td>\n",
       "      <td>13909.0</td>\n",
       "      <td>0.843</td>\n",
       "      <td>4396.0</td>\n",
       "      <td>83.0</td>\n",
       "      <td>0.566</td>\n",
       "      <td>0.111</td>\n",
       "      <td>0.0</td>\n",
       "      <td>0.0</td>\n",
       "      <td>Single</td>\n",
       "      <td>M</td>\n",
       "    </tr>\n",
       "    <tr>\n",
       "      <th>14</th>\n",
       "      <td>63.0</td>\n",
       "      <td>2.0</td>\n",
       "      <td>3.0</td>\n",
       "      <td>2.0</td>\n",
       "      <td>0.0</td>\n",
       "      <td>49.0</td>\n",
       "      <td>5.0</td>\n",
       "      <td>2.0</td>\n",
       "      <td>3.0</td>\n",
       "      <td>14035.0</td>\n",
       "      <td>...</td>\n",
       "      <td>11974.0</td>\n",
       "      <td>2.271</td>\n",
       "      <td>1606.0</td>\n",
       "      <td>30.0</td>\n",
       "      <td>1.500</td>\n",
       "      <td>0.147</td>\n",
       "      <td>0.0</td>\n",
       "      <td>0.0</td>\n",
       "      <td>Married</td>\n",
       "      <td>F</td>\n",
       "    </tr>\n",
       "    <tr>\n",
       "      <th>18</th>\n",
       "      <td>48.0</td>\n",
       "      <td>3.0</td>\n",
       "      <td>2.0</td>\n",
       "      <td>3.0</td>\n",
       "      <td>0.0</td>\n",
       "      <td>41.0</td>\n",
       "      <td>2.0</td>\n",
       "      <td>3.0</td>\n",
       "      <td>3.0</td>\n",
       "      <td>3430.0</td>\n",
       "      <td>...</td>\n",
       "      <td>913.0</td>\n",
       "      <td>0.869</td>\n",
       "      <td>2639.0</td>\n",
       "      <td>46.0</td>\n",
       "      <td>0.643</td>\n",
       "      <td>0.734</td>\n",
       "      <td>0.0</td>\n",
       "      <td>0.0</td>\n",
       "      <td>Married</td>\n",
       "      <td>M</td>\n",
       "    </tr>\n",
       "  </tbody>\n",
       "</table>\n",
       "<p>5 rows × 21 columns</p>\n",
       "</div>"
      ],
      "text/plain": [
       "    Customer_Age  Dependent_count  Education_Level  Income_Category  \\\n",
       "7           45.0              5.0              1.0              2.0   \n",
       "10          57.0              4.0              2.0              3.0   \n",
       "12          44.0              5.0              1.0              3.0   \n",
       "14          63.0              2.0              3.0              2.0   \n",
       "18          48.0              3.0              2.0              3.0   \n",
       "\n",
       "    Card_Category  Months_on_book  Total_Relationship_Count  \\\n",
       "7             0.0            37.0                       3.0   \n",
       "10            0.0            36.0                       5.0   \n",
       "12            0.0            37.0                       4.0   \n",
       "14            0.0            49.0                       5.0   \n",
       "18            0.0            41.0                       2.0   \n",
       "\n",
       "    Months_Inactive_12_mon  Contacts_Count_12_mon  Credit_Limit  ...  \\\n",
       "7                      1.0                    3.0       15626.0  ...   \n",
       "10                     3.0                    4.0        7558.0  ...   \n",
       "12                     2.0                    3.0       15638.0  ...   \n",
       "14                     2.0                    3.0       14035.0  ...   \n",
       "18                     3.0                    3.0        3430.0  ...   \n",
       "\n",
       "    Avg_Open_To_Buy  Total_Amt_Chng_Q4_Q1  Total_Trans_Amt  Total_Trans_Ct  \\\n",
       "7           14478.0                 1.028           3386.0            65.0   \n",
       "10           6194.0                 0.719           3676.0            67.0   \n",
       "12          13909.0                 0.843           4396.0            83.0   \n",
       "14          11974.0                 2.271           1606.0            30.0   \n",
       "18            913.0                 0.869           2639.0            46.0   \n",
       "\n",
       "    Total_Ct_Chng_Q4_Q1  Avg_Utilization_Ratio  Education_Level_NA  \\\n",
       "7                 0.711                  0.073                 0.0   \n",
       "10                0.558                  0.180                 1.0   \n",
       "12                0.566                  0.111                 0.0   \n",
       "14                1.500                  0.147                 0.0   \n",
       "18                0.643                  0.734                 0.0   \n",
       "\n",
       "    Income_Category_NA  Marital_Status Gender  \n",
       "7                  0.0         Married      M  \n",
       "10                 0.0         Married      M  \n",
       "12                 0.0          Single      M  \n",
       "14                 0.0         Married      F  \n",
       "18                 0.0         Married      M  \n",
       "\n",
       "[5 rows x 21 columns]"
      ]
     },
     "execution_count": 4,
     "metadata": {},
     "output_type": "execute_result"
    }
   ],
   "source": [
    "data_test.head()"
   ]
  },
  {
   "cell_type": "markdown",
   "metadata": {},
   "source": [
    "# Feature engineering"
   ]
  },
  {
   "cell_type": "markdown",
   "metadata": {},
   "source": [
    "## One dimensional"
   ]
  },
  {
   "cell_type": "markdown",
   "metadata": {},
   "source": [
    "### Categorical variables"
   ]
  },
  {
   "cell_type": "markdown",
   "metadata": {},
   "source": [
    "We converted the categorical variables—Income_Category, Education_Level, and Card_Category—into ordinal numerical values. This transformation was driven by the significance of order and hierarchy within these variables. \n",
    "\n",
    "Now we are left with Gender and Marital Status, in this case we will perform one-hot encoding. We are going to drop first category to ommit collinearity issue."
   ]
  },
  {
   "cell_type": "markdown",
   "metadata": {},
   "source": [
    "#### Gender"
   ]
  },
  {
   "cell_type": "code",
   "execution_count": 5,
   "metadata": {},
   "outputs": [],
   "source": [
    "data = pd.get_dummies(data, columns = ['Gender'], prefix = [\"Gender\"], drop_first = True)"
   ]
  },
  {
   "cell_type": "code",
   "execution_count": 6,
   "metadata": {},
   "outputs": [],
   "source": [
    "data_test = pd.get_dummies(data_test, columns = ['Gender'], prefix = [\"Gender\"], drop_first = True)"
   ]
  },
  {
   "cell_type": "markdown",
   "metadata": {},
   "source": [
    "#### Marital status"
   ]
  },
  {
   "cell_type": "code",
   "execution_count": 7,
   "metadata": {},
   "outputs": [],
   "source": [
    "data = pd.get_dummies(data, columns = ['Marital_Status'], prefix = [\"MS\"], drop_first = True)"
   ]
  },
  {
   "cell_type": "code",
   "execution_count": 8,
   "metadata": {},
   "outputs": [],
   "source": [
    "data_test = pd.get_dummies(data_test, columns = ['Marital_Status'], prefix = [\"MS\"], drop_first = True)"
   ]
  },
  {
   "cell_type": "markdown",
   "metadata": {},
   "source": [
    "Since we've got a bunch of variables with money values in our dataset, doing a log transformation could be a good move. It's a handy trick to tone down the variability in these cases."
   ]
  },
  {
   "cell_type": "markdown",
   "metadata": {},
   "source": [
    "### Total transaction amount"
   ]
  },
  {
   "cell_type": "markdown",
   "metadata": {},
   "source": [
    "Total transaction amount as seen earlier follows wired distribution. "
   ]
  },
  {
   "cell_type": "code",
   "execution_count": 9,
   "metadata": {},
   "outputs": [
    {
     "data": {
      "image/png": "[encoded data removed]",
      "text/plain": [
       "<Figure size 900x600 with 1 Axes>"
      ]
     },
     "metadata": {},
     "output_type": "display_data"
    }
   ],
   "source": [
    "sns.set_style(\"whitegrid\",{'font_scale':'1.6'})\n",
    "plt.figure(figsize=(9, 6))\n",
    "sns.histplot(np.log(data['Total_Trans_Amt']))\n",
    "plt.show()"
   ]
  },
  {
   "cell_type": "code",
   "execution_count": 10,
   "metadata": {},
   "outputs": [],
   "source": [
    "data['ln_Total_Trans_Amt'] = np.log(data['Total_Trans_Amt'])\n",
    "data_test['ln_Total_Trans_Amt'] = np.log(data_test['Total_Trans_Amt'])"
   ]
  },
  {
   "cell_type": "markdown",
   "metadata": {},
   "source": [
    "The application of logarithm transformation could be beneficial in our analysis by potentially reducing variance."
   ]
  },
  {
   "cell_type": "code",
   "execution_count": 11,
   "metadata": {},
   "outputs": [
    {
     "data": {
      "image/png": "[encoded data removed]",
      "text/plain": [
       "<Figure size 900x600 with 1 Axes>"
      ]
     },
     "metadata": {},
     "output_type": "display_data"
    }
   ],
   "source": [
    "sns.set_style(\"whitegrid\",{'font_scale':'1.6'})\n",
    "plt.figure(figsize=(9, 6))\n",
    "sns.histplot(np.log(data['Credit_Limit']))\n",
    "plt.show()"
   ]
  },
  {
   "cell_type": "code",
   "execution_count": 12,
   "metadata": {},
   "outputs": [],
   "source": [
    "data['ln_Credit_Limit'] = np.log(data['Credit_Limit'])\n",
    "data_test['ln_Credit_Limit'] = np.log(data_test['Credit_Limit'])"
   ]
  },
  {
   "cell_type": "markdown",
   "metadata": {},
   "source": [
    "## Multi dimensional"
   ]
  },
  {
   "cell_type": "markdown",
   "metadata": {},
   "source": [
    "### Average transaction"
   ]
  },
  {
   "cell_type": "markdown",
   "metadata": {},
   "source": [
    "It may be worth to include into our analysis transformation of Total_Trans_Amt and Total_Trans_Ct"
   ]
  },
  {
   "cell_type": "code",
   "execution_count": 13,
   "metadata": {},
   "outputs": [
    {
     "data": {
      "image/png": "[encoded data removed]",
      "text/plain": [
       "<Figure size 900x600 with 1 Axes>"
      ]
     },
     "metadata": {},
     "output_type": "display_data"
    }
   ],
   "source": [
    "sns.set_style(\"whitegrid\",{'font_scale':'1.6'})\n",
    "plt.figure(figsize=(9, 6))\n",
    "sns.histplot(np.log(data['Total_Trans_Amt']/data['Total_Trans_Ct']))\n",
    "plt.show()"
   ]
  },
  {
   "cell_type": "markdown",
   "metadata": {},
   "source": [
    "### Credit utilization"
   ]
  },
  {
   "cell_type": "code",
   "execution_count": 14,
   "metadata": {},
   "outputs": [
    {
     "data": {
      "image/png": "[encoded data removed]",
      "text/plain": [
       "<Figure size 900x600 with 1 Axes>"
      ]
     },
     "metadata": {},
     "output_type": "display_data"
    }
   ],
   "source": [
    "sns.set_style(\"whitegrid\",{'font_scale':'1.6'})\n",
    "plt.figure(figsize=(9, 6))\n",
    "sns.histplot(data['Total_Revolving_Bal']/data['Credit_Limit'])\n",
    "plt.show()"
   ]
  },
  {
   "cell_type": "markdown",
   "metadata": {},
   "source": []
  },
  {
   "cell_type": "markdown",
   "metadata": {},
   "source": [
    "# SMOTE "
   ]
  },
  {
   "cell_type": "markdown",
   "metadata": {},
   "source": []
  }
 ],
 "metadata": {
  "kernelspec": {
   "display_name": "Python 3",
   "language": "python",
   "name": "python3"
  },
  "language_info": {
   "codemirror_mode": {
    "name": "ipython",
    "version": 3
   },
   "file_extension": ".py",
   "mimetype": "text/x-python",
   "name": "python",
   "nbconvert_exporter": "python",
   "pygments_lexer": "ipython3",
   "version": "3.9.6"
  }
 },
 "nbformat": 4,
 "nbformat_minor": 2
}
